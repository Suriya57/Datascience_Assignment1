{
 "cells": [
  {
   "cell_type": "code",
   "execution_count": 9,
   "metadata": {},
   "outputs": [
    {
     "name": "stdout",
     "output_type": "stream",
     "text": [
      "Hello Guys!\n",
      "This is my fist program in python\n",
      "I am Suriya and I work for Prodapt solutions\n",
      "\n",
      "Below are my skills,\n",
      "['Oracle', 'Weblogic', 'Unix', 'Linux', 'Blueplanet', 'Metasolv']\n"
     ]
    }
   ],
   "source": [
    "# My first program in python\n",
    "print('Hello Guys!\\nThis is my fist program in python')\n",
    "name='Suriya'\n",
    "print('I am '+name+' and {}'.format('I work for Prodapt solutions'))\n",
    "skillset='Oracle Weblogic Unix Linux Blueplanet Metasolv'\n",
    "print('\\nBelow are my skills,')\n",
    "print(skillset.split())"
   ]
  },
  {
   "cell_type": "code",
   "execution_count": 11,
   "metadata": {},
   "outputs": [
    {
     "name": "stdout",
     "output_type": "stream",
     "text": [
      "['2002', '2009', '2016', '2023', '2037', '2044', '2051', '2058', '2072', '2079', '2086', '2093', '2107', '2114', '2121', '2128', '2142', '2149', '2156', '2163', '2177', '2184', '2191', '2198', '2212', '2219', '2226', '2233', '2247', '2254', '2261', '2268', '2282', '2289', '2296', '2303', '2317', '2324', '2331', '2338', '2352', '2359', '2366', '2373', '2387', '2394', '2401', '2408', '2422', '2429', '2436', '2443', '2457', '2464', '2471', '2478', '2492', '2499', '2506', '2513', '2527', '2534', '2541', '2548', '2562', '2569', '2576', '2583', '2597', '2604', '2611', '2618', '2632', '2639', '2646', '2653', '2667', '2674', '2681', '2688', '2702', '2709', '2716', '2723', '2737', '2744', '2751', '2758', '2772', '2779', '2786', '2793', '2807', '2814', '2821', '2828', '2842', '2849', '2856', '2863', '2877', '2884', '2891', '2898', '2912', '2919', '2926', '2933', '2947', '2954', '2961', '2968', '2982', '2989', '2996', '3003', '3017', '3024', '3031', '3038', '3052', '3059', '3066', '3073', '3087', '3094', '3101', '3108', '3122', '3129', '3136', '3143', '3157', '3164', '3171', '3178', '3192', '3199']\n"
     ]
    }
   ],
   "source": [
    "# Code snippet to find the numbers between 2000 to 3200 that are divisble by 7 and not a multiple of 3\n",
    "MyList=range(2000,3201)\n",
    "OutputList=[]\n",
    "for number in MyList:\n",
    "    if (number%7==0) and (number%5!=0):\n",
    "        OutputList.append(str(number))\n",
    "OutputList.sort()\n",
    "print(OutputList)"
   ]
  },
  {
   "cell_type": "code",
   "execution_count": 13,
   "metadata": {},
   "outputs": [
    {
     "name": "stdout",
     "output_type": "stream",
     "text": [
      "Please enter your first name : Suriya\n",
      "Please enter your last name : Prathi\n",
      "Prathi   Suriya\n"
     ]
    }
   ],
   "source": [
    "# Program to get the first name,last name from user and to print them in reverse order with a space in between\n",
    "\n",
    "FirstName = input('Please enter your first name : ')\n",
    "LastName = input('Please enter your last name : ')\n",
    "print(LastName,' ',FirstName)"
   ]
  },
  {
   "cell_type": "code",
   "execution_count": 14,
   "metadata": {},
   "outputs": [
    {
     "name": "stdout",
     "output_type": "stream",
     "text": [
      "The radius of the sphere is : 6.0\n",
      "Volume of the sphere is : 904.3199999999998 Cubic units\n"
     ]
    }
   ],
   "source": [
    "# Program to find the volume of the sphere with diameter as 12\n",
    "Diameter = 12\n",
    "# Radius is diameter divided by 2\n",
    "Radius = float(Diameter/2)\n",
    "print ('The radius of the sphere is : '+str(Radius))\n",
    "# The numerical equivalent of pi is 3.14\n",
    "Pi = 3.14\n",
    "# Volume of the sphere can be calculated by 4/3 * π * r 3\n",
    "Volume = float((4/3)*Pi*Radius*Radius*Radius)\n",
    "print('Volume of the sphere is : '+str(Volume)+' Cubic units')"
   ]
  }
 ],
 "metadata": {
  "kernelspec": {
   "display_name": "Python 3",
   "language": "python",
   "name": "python3"
  },
  "language_info": {
   "codemirror_mode": {
    "name": "ipython",
    "version": 3
   },
   "file_extension": ".py",
   "mimetype": "text/x-python",
   "name": "python",
   "nbconvert_exporter": "python",
   "pygments_lexer": "ipython3",
   "version": "3.6.1"
  }
 },
 "nbformat": 4,
 "nbformat_minor": 2
}
